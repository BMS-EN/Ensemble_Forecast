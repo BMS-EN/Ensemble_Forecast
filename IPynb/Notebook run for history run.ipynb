{
 "cells": [
  {
   "cell_type": "markdown",
   "metadata": {},
   "source": [
    "# Uji - Murakumo"
   ]
  },
  {
   "cell_type": "code",
   "execution_count": 1,
   "metadata": {
    "collapsed": true
   },
   "outputs": [],
   "source": [
    "from namelist_history import lib_path, prec_keys, fcst_keys,\\\n",
    "                     tssc_keys, TS_perfix, TS_path,\\\n",
    "                     ENS_path, OTS_path, output_name\n",
    "from sys import path, argv\n",
    "path.insert(0, lib_path)\n",
    "# local scripts\n",
    "import ensemble_tool as et\n",
    "import micpas_tool as mt\n",
    "from utility import ini_dicts, subtrack_precip_lev\n",
    "# other modules\n",
    "import numpy as np\n",
    "from datetime import datetime\n",
    "from dateutil.relativedelta import relativedelta"
   ]
  },
  {
   "cell_type": "code",
   "execution_count": 2,
   "metadata": {},
   "outputs": [
    {
     "data": {
      "text/plain": [
       "<module 'micpas_tool' from 'libs/micpas_tool.pyc'>"
      ]
     },
     "execution_count": 2,
     "metadata": {},
     "output_type": "execute_result"
    }
   ],
   "source": [
    "reload(mt)"
   ]
  },
  {
   "cell_type": "code",
   "execution_count": 3,
   "metadata": {},
   "outputs": [
    {
     "name": "stdout",
     "output_type": "stream",
     "text": [
      "Calculating [20170303]\n",
      "Import all micaps files\n"
     ]
    }
   ],
   "source": [
    "#def run_single_day(date_ref, day0):\n",
    "date_ref = datetime(2017, 3, 3, 0)\n",
    "date_ref_delay = date_ref-relativedelta(days=1) # use yesterday's forecast\n",
    "date_BJ = date_ref_delay+relativedelta(hours=8)\n",
    "print('Calculating ['+date_ref.strftime('%Y%m%d')+']')\n",
    "name_today = []\n",
    "name_today.append(datetime.strftime(date_ref_delay, ENS_path))\n",
    "#name_today.append(datetime.strftime(date_ref_delay, FRE_path))\n",
    "name_today.append(datetime.strftime(date_ref_delay+relativedelta(hours=8), OTS_path))\n",
    "\n",
    "print('Import all micaps files')\n",
    "lon, lat = mt.genrate_grid()\n",
    "# Initializing dictionaries\n",
    "cmpt_keys = ['ENS', 'OTS']\n",
    "dict_var = {}; dict_interp = {}; dict_header = {}\n",
    "dict_var = ini_dicts(dict_var, cmpt_keys)\n",
    "dict_interp = ini_dicts(dict_interp, cmpt_keys)\n",
    "\n"
   ]
  },
  {
   "cell_type": "code",
   "execution_count": 4,
   "metadata": {},
   "outputs": [],
   "source": [
    "# Fill dictionaries with data\n",
    "for fcst_key in fcst_keys:\n",
    "    for i, name in enumerate(name_today):\n",
    "        temp_name = name+fcst_key\n",
    "        temp = mt.micaps_import(temp_name)\n",
    "        if temp == False:\n",
    "            print(temp_name+' not found. Exit ...')\n",
    "            #return\n",
    "        else:\n",
    "            dict_var[cmpt_keys[i]][fcst_key] = temp[2]\n",
    "    dict_header[fcst_key] = temp[3]"
   ]
  },
  {
   "cell_type": "code",
   "execution_count": 8,
   "metadata": {},
   "outputs": [
    {
     "data": {
      "text/plain": [
       "' diamond 4 17030220_180rain24_MPI'"
      ]
     },
     "execution_count": 8,
     "metadata": {},
     "output_type": "execute_result"
    }
   ],
   "source": [
    "temp[3][0].replace(\"FZMOS\", \"MPI\")"
   ]
  },
  {
   "cell_type": "code",
   "execution_count": 9,
   "metadata": {},
   "outputs": [
    {
     "data": {
      "text/plain": [
       "(array([[  60.  ,   60.25,   60.5 , ...,  149.5 ,  149.75,  150.  ],\n",
       "        [  60.  ,   60.25,   60.5 , ...,  149.5 ,  149.75,  150.  ],\n",
       "        [  60.  ,   60.25,   60.5 , ...,  149.5 ,  149.75,  150.  ],\n",
       "        ..., \n",
       "        [  60.  ,   60.25,   60.5 , ...,  149.5 ,  149.75,  150.  ],\n",
       "        [  60.  ,   60.25,   60.5 , ...,  149.5 ,  149.75,  150.  ],\n",
       "        [  60.  ,   60.25,   60.5 , ...,  149.5 ,  149.75,  150.  ]]),\n",
       " array([[ 60.  ,  60.  ,  60.  , ...,  60.  ,  60.  ,  60.  ],\n",
       "        [ 59.75,  59.75,  59.75, ...,  59.75,  59.75,  59.75],\n",
       "        [ 59.5 ,  59.5 ,  59.5 , ...,  59.5 ,  59.5 ,  59.5 ],\n",
       "        ..., \n",
       "        [ -9.5 ,  -9.5 ,  -9.5 , ...,  -9.5 ,  -9.5 ,  -9.5 ],\n",
       "        [ -9.75,  -9.75,  -9.75, ...,  -9.75,  -9.75,  -9.75],\n",
       "        [-10.  , -10.  , -10.  , ..., -10.  , -10.  , -10.  ]]),\n",
       " array([[  0. ,   0. ,   0. , ...,   0.7,   0.8,   0.8],\n",
       "        [  0. ,   0. ,   0. , ...,   0.8,   0.9,   0.9],\n",
       "        [  0. ,   0. ,   0. , ...,   1. ,   1.1,   1. ],\n",
       "        ..., \n",
       "        [ 13.3,  13.7,  14.2, ...,   2.2,   1.9,   1.7],\n",
       "        [ 14.3,  14.7,  15.3, ...,   1.9,   1.5,   1.2],\n",
       "        [ 15.2,  15.6,  16.3, ...,   1.9,   1.3,   0.9]]),\n",
       " [' diamond 4 17030220_180rain24_FZMOS',\n",
       "  '  2017     3     2    12   180       0   0.250  -0.250    60   150    60   -10   361   281     5     0   200     0     0'])"
      ]
     },
     "execution_count": 9,
     "metadata": {},
     "output_type": "execute_result"
    }
   ],
   "source": [
    "temp[3]"
   ]
  },
  {
   "cell_type": "code",
   "execution_count": 45,
   "metadata": {},
   "outputs": [
    {
     "name": "stdout",
     "output_type": "stream",
     "text": [
      "Calculating [20170403]\n",
      "Import all micaps files\n",
      "data/obj_analysis/ens/2017040212.108 not found. Exit ...\n",
      "data/obj_analysis/ots/17040220.108 not found. Exit ...\n"
     ]
    },
    {
     "ename": "TypeError",
     "evalue": "'bool' object has no attribute '__getitem__'",
     "output_type": "error",
     "traceback": [
      "\u001b[0;31m---------------------------------------------------------------------------\u001b[0m",
      "\u001b[0;31mTypeError\u001b[0m                                 Traceback (most recent call last)",
      "\u001b[0;32m<ipython-input-45-7d057f86623b>\u001b[0m in \u001b[0;36m<module>\u001b[0;34m()\u001b[0m\n\u001b[1;32m     25\u001b[0m         \u001b[0;32melse\u001b[0m\u001b[0;34m:\u001b[0m\u001b[0;34m\u001b[0m\u001b[0m\n\u001b[1;32m     26\u001b[0m             \u001b[0mdict_var\u001b[0m\u001b[0;34m[\u001b[0m\u001b[0mcmpt_keys\u001b[0m\u001b[0;34m[\u001b[0m\u001b[0mi\u001b[0m\u001b[0;34m]\u001b[0m\u001b[0;34m]\u001b[0m\u001b[0;34m[\u001b[0m\u001b[0mfcst_key\u001b[0m\u001b[0;34m]\u001b[0m \u001b[0;34m=\u001b[0m \u001b[0mtemp\u001b[0m\u001b[0;34m[\u001b[0m\u001b[0;36m2\u001b[0m\u001b[0;34m]\u001b[0m\u001b[0;34m\u001b[0m\u001b[0m\n\u001b[0;32m---> 27\u001b[0;31m     \u001b[0mdict_header\u001b[0m\u001b[0;34m[\u001b[0m\u001b[0mfcst_key\u001b[0m\u001b[0;34m]\u001b[0m \u001b[0;34m=\u001b[0m \u001b[0mtemp\u001b[0m\u001b[0;34m[\u001b[0m\u001b[0;36m3\u001b[0m\u001b[0;34m]\u001b[0m\u001b[0;34m\u001b[0m\u001b[0m\n\u001b[0m\u001b[1;32m     28\u001b[0m \u001b[0;31m# Get latlon info\u001b[0m\u001b[0;34m\u001b[0m\u001b[0;34m\u001b[0m\u001b[0m\n\u001b[1;32m     29\u001b[0m \u001b[0mdict_latlon\u001b[0m \u001b[0;34m=\u001b[0m \u001b[0;34m{\u001b[0m\u001b[0;34m}\u001b[0m\u001b[0;34m\u001b[0m\u001b[0m\n",
      "\u001b[0;31mTypeError\u001b[0m: 'bool' object has no attribute '__getitem__'"
     ]
    }
   ],
   "source": [
    "#def run_single_day(date_ref, day0):\n",
    "date_ref = datetime(2017, 4, 3, 0)\n",
    "date_ref_delay = date_ref-relativedelta(days=1) # use yesterday's forecast\n",
    "date_BJ = date_ref_delay+relativedelta(hours=8)\n",
    "print('Calculating ['+date_ref.strftime('%Y%m%d')+']')\n",
    "name_today = []\n",
    "name_today.append(datetime.strftime(date_ref_delay, ENS_path))\n",
    "#name_today.append(datetime.strftime(date_ref_delay, FRE_path))\n",
    "name_today.append(datetime.strftime(date_ref_delay+relativedelta(hours=8), OTS_path))\n",
    "print('Import all micaps files')\n",
    "lon, lat = mt.genrate_grid()\n",
    "# Initializing dictionaries\n",
    "cmpt_keys = ['ENS', 'OTS']\n",
    "dict_var = {}; dict_interp = {}; dict_header = {}\n",
    "dict_var = ini_dicts(dict_var, cmpt_keys)\n",
    "dict_interp = ini_dicts(dict_interp, cmpt_keys)\n",
    "# Fill dictionaries with data\n",
    "for fcst_key in fcst_keys:\n",
    "    for i, name in enumerate(name_today):\n",
    "        temp_name = name+fcst_key\n",
    "        temp = mt.micaps_import(temp_name)\n",
    "        if temp == False:\n",
    "            print(temp_name+' not found. Exit ...')\n",
    "            #return\n",
    "        else:\n",
    "            dict_var[cmpt_keys[i]][fcst_key] = temp[2]\n",
    "    dict_header[fcst_key] = temp[3]\n",
    "# Get latlon info\n",
    "dict_latlon = {}\n",
    "for i, name in enumerate(name_today):\n",
    "    dict_latlon[cmpt_keys[i]] = mt.micaps_import(name+fcst_keys[0], export_data=False)\n",
    "lon, lat = mt.genrate_grid()\n",
    "print('Bilinear interpolation for grid transfer')\n",
    "for key, val in dict_var.items():\n",
    "    for fcst_key in fcst_keys:\n",
    "        x = dict_latlon[key][0]\n",
    "        y = dict_latlon[key][1]\n",
    "        z = val[fcst_key]\n",
    "        if x.shape == z.shape:\n",
    "            dict_interp[key][fcst_key] = mt.grid_transfer(dict_latlon[key][0], dict_latlon[key][1], val[fcst_key], lon, lat)\n",
    "        else:\n",
    "            print('\\t Error: File coord and val does not match, skip ...')\n",
    "            return\n",
    "# Caliberating weights\n",
    "print('Caliberating weights')\n",
    "W = {}; W = ini_dicts(W, prec_keys)\n",
    "for prec_key in prec_keys:\n",
    "    W[prec_key] = ini_dicts(W[prec_key], tssc_keys)\n",
    "# Get weights from moving averaging\n",
    "for prec_key in prec_keys:\n",
    "    for tssc_key in tssc_keys:\n",
    "        # retreive ts files by the fcst delay\n",
    "        date_temp = date_ref - relativedelta(days=int(tssc_key)/24)\n",
    "        data_ma, flag_TS = et.norm_ensemble(date_temp.strftime(TS_perfix), 10, TS_path+prec_key+'/', period=tssc_key)\n",
    "        if np.logical_not(flag_TS) or np.isnan(data_ma.as_matrix()[-1, 1:].astype(np.float)).sum() >= 3:\n",
    "            print('\\t Warning: TS not exist or filled with NaNs, use average.')\n",
    "            for cmpt_key in cmpt_keys:\n",
    "                W[prec_key][tssc_key][cmpt_key] = 0.5\n",
    "        else:\n",
    "            for cmpt_key in cmpt_keys:\n",
    "                temp = data_ma[cmpt_key][9:10].as_matrix()\n",
    "                if np.isnan(temp):\n",
    "                    temp = 0.0\n",
    "                W[prec_key][tssc_key][cmpt_key] = temp\n",
    "# Calculate ensembles\n",
    "output = {}\n",
    "# get all the result at the current day\n",
    "for i in xrange(4):\n",
    "    # initialization\n",
    "    W0 = 0.0\n",
    "    W25 = 0.0\n",
    "    W50 = 0.0\n",
    "    precip0  = np.zeros(lon.shape)\n",
    "    precip25 = np.zeros(lon.shape)\n",
    "    precip50 = np.zeros(lon.shape)\n",
    "    #\n",
    "    for cmpt_key in cmpt_keys:\n",
    "        data0, data25, data50 = subtrack_precip_lev(dict_interp[cmpt_key][fcst_keys[i]])\n",
    "        precip0 += data0\n",
    "        precip25 += W['25'][tssc_keys[i]][cmpt_key] * data25\n",
    "        precip50 += W['50'][tssc_keys[i]][cmpt_key] * data50\n",
    "        W0 += 1.0\n",
    "        W25 += W['25'][tssc_keys[i]][cmpt_key]\n",
    "        W50 += W['50'][tssc_keys[i]][cmpt_key]\n",
    "    output[fcst_keys[i]] = precip0/W0 + precip25/W25 + precip50/W50\n",
    "# Preparing MICAPS file output\n",
    "for fcst_key in fcst_keys:\n",
    "    metadata = mt.micaps_change_header(lon.shape, dict_header[fcst_key])\n",
    "    mt.micaps_export(datetime.strftime(date_BJ, output_name)+fcst_key+'.txt', metadata, output[fcst_key])\n",
    "print('The ensemble system complete')\n",
    "#return"
   ]
  },
  {
   "cell_type": "code",
   "execution_count": 34,
   "metadata": {
    "collapsed": true
   },
   "outputs": [],
   "source": [
    "a, b, c, d = mt.micaps_import('data/obj_analysis/ots/17040120.180')"
   ]
  },
  {
   "cell_type": "code",
   "execution_count": 38,
   "metadata": {},
   "outputs": [
    {
     "data": {
      "text/plain": [
       "['data/obj_analysis/ens/2017040112.', 'data/obj_analysis/ots/17040120.']"
      ]
     },
     "execution_count": 38,
     "metadata": {},
     "output_type": "execute_result"
    }
   ],
   "source": [
    "name_today"
   ]
  },
  {
   "cell_type": "code",
   "execution_count": 40,
   "metadata": {
    "collapsed": true
   },
   "outputs": [],
   "source": [
    "a, b = mt.micaps_import(name_today[1]+fcst_keys[0], export_data=False)"
   ]
  },
  {
   "cell_type": "code",
   "execution_count": 42,
   "metadata": {},
   "outputs": [
    {
     "data": {
      "text/plain": [
       "'data/obj_analysis/ots/17040120.108'"
      ]
     },
     "execution_count": 42,
     "metadata": {},
     "output_type": "execute_result"
    }
   ],
   "source": [
    "name_today[1]+fcst_keys[0]"
   ]
  },
  {
   "cell_type": "code",
   "execution_count": 41,
   "metadata": {},
   "outputs": [
    {
     "data": {
      "text/plain": [
       "(601, 701)"
      ]
     },
     "execution_count": 41,
     "metadata": {},
     "output_type": "execute_result"
    }
   ],
   "source": [
    "a.shape"
   ]
  },
  {
   "cell_type": "code",
   "execution_count": 25,
   "metadata": {},
   "outputs": [
    {
     "data": {
      "text/plain": [
       "(161, 281)"
      ]
     },
     "execution_count": 25,
     "metadata": {},
     "output_type": "execute_result"
    }
   ],
   "source": [
    "dict_latlon['ENS'][1].shape"
   ]
  },
  {
   "cell_type": "code",
   "execution_count": 26,
   "metadata": {},
   "outputs": [
    {
     "data": {
      "text/plain": [
       "(281, 361)"
      ]
     },
     "execution_count": 26,
     "metadata": {},
     "output_type": "execute_result"
    }
   ],
   "source": [
    "val[fcst_key].shape"
   ]
  },
  {
   "cell_type": "code",
   "execution_count": 44,
   "metadata": {},
   "outputs": [
    {
     "data": {
      "text/plain": [
       "{'ENS': {'108': array([[ 0.    ,  0.    ,  0.    , ...,  1.7395,  2.2888,  2.2888],\n",
       "         [ 0.    ,  0.    ,  0.206 , ...,  1.3885,  1.8997,  2.4261],\n",
       "         [ 0.7935,  0.824 ,  0.7019, ...,  1.6785,  2.1515,  2.1973],\n",
       "         ..., \n",
       "         [ 0.1602,  0.1678,  0.1831, ...,  0.    ,  0.    ,  0.    ],\n",
       "         [ 0.1068,  0.    ,  0.1068, ...,  0.    ,  0.    ,  0.    ],\n",
       "         [ 0.145 ,  0.1526,  0.1602, ...,  0.    ,  0.    ,  0.    ]]),\n",
       "  '132': array([[  0.    ,   0.    ,   0.    , ...,   2.0752,   2.4643,   3.9749],\n",
       "         [  0.2899,   0.1678,   0.1678, ...,   2.2278,   3.2425,  10.4561],\n",
       "         [  0.5493,   0.618 ,   0.679 , ...,   2.3804,   3.4256,  10.6277],\n",
       "         ..., \n",
       "         [  0.    ,   0.    ,   0.    , ...,   0.    ,   0.    ,   0.    ],\n",
       "         [  0.    ,   0.    ,   0.    , ...,   0.    ,   0.    ,   0.    ],\n",
       "         [  0.    ,   0.    ,   0.    , ...,   0.    ,   0.    ,   0.    ]]),\n",
       "  '156': array([[  0.    ,   0.    ,   0.1144, ...,  10.0861,  11.4249,  11.9705],\n",
       "         [  0.6332,   0.5569,   0.6828, ...,  11.3678,  11.0763,  12.4664],\n",
       "         [  1.2016,   1.0223,   1.0834, ...,  12.1918,  13.3514,  14.4348],\n",
       "         ..., \n",
       "         [  0.    ,   0.    ,   0.    , ...,   0.    ,   0.    ,   0.    ],\n",
       "         [  0.    ,   0.    ,   0.    , ...,   0.    ,   0.    ,   0.    ],\n",
       "         [  0.    ,   0.    ,   0.    , ...,   0.    ,   0.    ,   0.    ]]),\n",
       "  '180': array([[  0.4578,   0.4539,   0.4921, ...,  10.8986,  12.6762,  13.6871],\n",
       "         [  1.6212,   1.297 ,   1.3885, ...,  14.3433,  14.904 ,  14.7896],\n",
       "         [  2.0485,   1.8692,   2.0027, ...,  15.9242,  15.5907,  16.716 ],\n",
       "         ..., \n",
       "         [  0.    ,   0.    ,   0.    , ...,   0.    ,   0.    ,   0.1259],\n",
       "         [  0.    ,   0.    ,   0.    , ...,   0.    ,   0.    ,   0.    ],\n",
       "         [  0.    ,   0.    ,   0.    , ...,   0.    ,   0.    ,   0.    ]])},\n",
       " 'OTS': {'108': array([[  0. ,   0. ,   0. , ...,   6.3,   7.1,   7.5],\n",
       "         [  0.6,   0.8,   1.1, ...,   7.6,   9.8,  11.4],\n",
       "         [  1.2,   1.3,   1.8, ...,   9. ,  11.2,  13.6],\n",
       "         ..., \n",
       "         [  0.4,   0.5,   0.7, ...,   0. ,   0. ,   0. ],\n",
       "         [  0.6,   0.7,   0.8, ...,   0. ,   0. ,   0. ],\n",
       "         [  0.9,   0.9,   1.1, ...,   0. ,   0. ,   0. ]]),\n",
       "  '132': array([[  0. ,   0. ,   0. , ...,   9.9,  11. ,  11.2],\n",
       "         [  1.1,   1.2,   1.1, ...,  14.5,  17.1,  18.2],\n",
       "         [  3. ,   3. ,   2.6, ...,  18.8,  22.2,  24.5],\n",
       "         ..., \n",
       "         [  0. ,   0. ,   0. , ...,   0. ,   0. ,   0. ],\n",
       "         [  0. ,   0. ,   0. , ...,   0. ,   0. ,   0. ],\n",
       "         [  0. ,   0. ,   0. , ...,   0. ,   0. ,   0. ]]),\n",
       "  '156': array([[  0.5,   0.7,   0.8, ...,   9.8,  10.8,  12. ],\n",
       "         [  2.5,   2.9,   3.2, ...,  11.9,  13.6,  14.8],\n",
       "         [  4.3,   4.6,   4.8, ...,  15.4,  17.3,  18.4],\n",
       "         ..., \n",
       "         [  0. ,   0. ,   0. , ...,   0. ,   0.2,   0.2],\n",
       "         [  0. ,   0. ,   0. , ...,   0. ,   0. ,   0.1],\n",
       "         [  0. ,   0. ,   0. , ...,   0.3,   0.2,   0. ]])}}"
      ]
     },
     "execution_count": 44,
     "metadata": {},
     "output_type": "execute_result"
    }
   ],
   "source": [
    "dict_interp"
   ]
  },
  {
   "cell_type": "code",
   "execution_count": 23,
   "metadata": {},
   "outputs": [
    {
     "data": {
      "text/plain": [
       "'180'"
      ]
     },
     "execution_count": 23,
     "metadata": {},
     "output_type": "execute_result"
    }
   ],
   "source": [
    "fcst_key"
   ]
  },
  {
   "cell_type": "code",
   "execution_count": 24,
   "metadata": {},
   "outputs": [
    {
     "data": {
      "text/plain": [
       "{'ENS': {'108': array([[  1.9836,   5.0049,   3.3569, ...,  11.116 ,  10.3149,  10.4294],\n",
       "         [ 12.7487,  12.1841,  10.6506, ...,  10.6659,  10.643 ,   2.3193],\n",
       "         [ 14.9841,  13.4735,  12.7258, ...,   5.9204,   3.1738,   2.4414],\n",
       "         ..., \n",
       "         [  0.5035,   0.4578,   0.4807, ...,   0.    ,   0.    ,   0.    ],\n",
       "         [  0.7019,   0.6714,   0.6561, ...,   0.    ,   0.    ,   0.    ],\n",
       "         [  0.7172,   0.6638,   0.6104, ...,   0.    ,   0.    ,   0.    ]]),\n",
       "  '132': array([[  4.6997,  13.4239,  12.7774, ...,   0.9003,   0.8545,   0.7935],\n",
       "         [ 17.3111,  16.777 ,  15.9378, ...,   1.4648,   1.4648,   0.8469],\n",
       "         [ 18.074 ,  18.7576,  19.3329, ...,   1.8005,   1.6098,   1.4648],\n",
       "         ..., \n",
       "         [  0.1068,   0.    ,   0.    , ...,   0.    ,   0.1373,   0.1144],\n",
       "         [  0.1373,   0.1144,   0.1068, ...,   0.    ,   0.    ,   0.    ],\n",
       "         [  0.3815,   0.2289,   0.3662, ...,   0.    ,   0.    ,   0.    ]]),\n",
       "  '156': array([[ 12.0621,  17.0441,  15.4037, ...,   0.4921,   0.5951,   0.5188],\n",
       "         [ 19.6838,  19.0048,  17.746 , ...,   0.8125,   0.9308,   0.7553],\n",
       "         [ 21.8658,  19.3939,  18.3792, ...,   1.1978,   1.297 ,   1.3161],\n",
       "         ..., \n",
       "         [  0.164 ,   0.1144,   0.    , ...,   0.103 ,   0.1488,   0.1297],\n",
       "         [  0.1602,   0.    ,   0.    , ...,   0.    ,   0.    ,   0.    ],\n",
       "         [  0.1144,   0.    ,   0.    , ...,   0.    ,   0.    ,   0.    ]]),\n",
       "  '180': array([[ 12.7754,  20.2484,  18.7073, ...,   1.606 ,   1.8005,   1.8921],\n",
       "         [ 23.6053,  21.4767,  19.6648, ...,   1.8005,   1.873 ,   2.0981],\n",
       "         [ 21.759 ,  20.7024,  18.1732, ...,   2.1896,   2.2583,   2.4567],\n",
       "         ..., \n",
       "         [  0.721 ,   0.4654,   0.3777, ...,   0.    ,   0.    ,   0.    ],\n",
       "         [  0.7401,   0.679 ,   0.6866, ...,   0.    ,   0.    ,   0.    ],\n",
       "         [  0.679 ,   0.4654,   0.4158, ...,   0.    ,   0.    ,   0.    ]])},\n",
       " 'OTS': {'108': array([[ 0. ,  0. ,  0. , ...,  9.1,  9.2,  9.2],\n",
       "         [ 0. ,  0. ,  0. , ...,  8.5,  8.5,  8.5],\n",
       "         [ 0. ,  0. ,  0. , ...,  7.8,  7.8,  7.8],\n",
       "         ..., \n",
       "         [ 1.8,  1.7,  1.7, ...,  0. ,  0. ,  0. ],\n",
       "         [ 1.8,  1.8,  1.8, ...,  0. ,  0. ,  0. ],\n",
       "         [ 1.9,  1.9,  1.9, ...,  0. ,  0. ,  0. ]]),\n",
       "  '132': array([[ 0. ,  0. ,  0. , ...,  4. ,  3.9,  3.8],\n",
       "         [ 0. ,  0. ,  0. , ...,  4.1,  4. ,  3.9],\n",
       "         [ 0. ,  0. ,  0. , ...,  4.3,  4.2,  4. ],\n",
       "         ..., \n",
       "         [ 0. ,  0. ,  0. , ...,  0. ,  0. ,  0. ],\n",
       "         [ 0. ,  0. ,  0. , ...,  0. ,  0. ,  0. ],\n",
       "         [ 0. ,  0. ,  0. , ...,  0. ,  0. ,  0. ]]),\n",
       "  '156': array([[  0. ,   0. ,   0. , ...,  10.2,  10.2,  10.2],\n",
       "         [  0. ,   0. ,   0. , ...,  10.2,  10.2,  10.2],\n",
       "         [  0. ,   0. ,   0. , ...,  10.3,  10.3,  10.3],\n",
       "         ..., \n",
       "         [  0. ,   0. ,   0. , ...,   0. ,   0. ,   0. ],\n",
       "         [  0. ,   0. ,   0. , ...,   0. ,   0. ,   0. ],\n",
       "         [  0. ,   0. ,   0. , ...,   0. ,   0. ,   0. ]]),\n",
       "  '180': array([[ 0. ,  0. ,  0. , ...,  2.5,  2.2,  2. ],\n",
       "         [ 0. ,  0. ,  0. , ...,  2.7,  2.2,  2. ],\n",
       "         [ 0. ,  0. ,  0. , ...,  3.1,  2.5,  2.1],\n",
       "         ..., \n",
       "         [ 0.8,  0.8,  0.9, ...,  9.7,  9.2,  8.6],\n",
       "         [ 0.2,  0.2,  0.3, ...,  8.8,  8.2,  7.9],\n",
       "         [ 0. ,  0. ,  0. , ...,  7.8,  7.2,  7. ]])}}"
      ]
     },
     "execution_count": 24,
     "metadata": {},
     "output_type": "execute_result"
    }
   ],
   "source": [
    "dict_var"
   ]
  },
  {
   "cell_type": "code",
   "execution_count": 30,
   "metadata": {},
   "outputs": [
    {
     "data": {
      "text/plain": [
       "{'108': array([[ 0. ,  0. ,  0. , ...,  9.1,  9.2,  9.2],\n",
       "        [ 0. ,  0. ,  0. , ...,  8.5,  8.5,  8.5],\n",
       "        [ 0. ,  0. ,  0. , ...,  7.8,  7.8,  7.8],\n",
       "        ..., \n",
       "        [ 1.8,  1.7,  1.7, ...,  0. ,  0. ,  0. ],\n",
       "        [ 1.8,  1.8,  1.8, ...,  0. ,  0. ,  0. ],\n",
       "        [ 1.9,  1.9,  1.9, ...,  0. ,  0. ,  0. ]]),\n",
       " '132': array([[ 0. ,  0. ,  0. , ...,  4. ,  3.9,  3.8],\n",
       "        [ 0. ,  0. ,  0. , ...,  4.1,  4. ,  3.9],\n",
       "        [ 0. ,  0. ,  0. , ...,  4.3,  4.2,  4. ],\n",
       "        ..., \n",
       "        [ 0. ,  0. ,  0. , ...,  0. ,  0. ,  0. ],\n",
       "        [ 0. ,  0. ,  0. , ...,  0. ,  0. ,  0. ],\n",
       "        [ 0. ,  0. ,  0. , ...,  0. ,  0. ,  0. ]]),\n",
       " '156': array([[  0. ,   0. ,   0. , ...,  10.2,  10.2,  10.2],\n",
       "        [  0. ,   0. ,   0. , ...,  10.2,  10.2,  10.2],\n",
       "        [  0. ,   0. ,   0. , ...,  10.3,  10.3,  10.3],\n",
       "        ..., \n",
       "        [  0. ,   0. ,   0. , ...,   0. ,   0. ,   0. ],\n",
       "        [  0. ,   0. ,   0. , ...,   0. ,   0. ,   0. ],\n",
       "        [  0. ,   0. ,   0. , ...,   0. ,   0. ,   0. ]]),\n",
       " '180': array([[ 0. ,  0. ,  0. , ...,  2.5,  2.2,  2. ],\n",
       "        [ 0. ,  0. ,  0. , ...,  2.7,  2.2,  2. ],\n",
       "        [ 0. ,  0. ,  0. , ...,  3.1,  2.5,  2.1],\n",
       "        ..., \n",
       "        [ 0.8,  0.8,  0.9, ...,  9.7,  9.2,  8.6],\n",
       "        [ 0.2,  0.2,  0.3, ...,  8.8,  8.2,  7.9],\n",
       "        [ 0. ,  0. ,  0. , ...,  7.8,  7.2,  7. ]])}"
      ]
     },
     "execution_count": 30,
     "metadata": {},
     "output_type": "execute_result"
    }
   ],
   "source": [
    "val"
   ]
  },
  {
   "cell_type": "code",
   "execution_count": null,
   "metadata": {
    "collapsed": true
   },
   "outputs": [],
   "source": [
    "dict_var"
   ]
  },
  {
   "cell_type": "code",
   "execution_count": null,
   "metadata": {
    "collapsed": true
   },
   "outputs": [],
   "source": []
  }
 ],
 "metadata": {
  "anaconda-cloud": {},
  "kernelspec": {
   "display_name": "Python [conda root]",
   "language": "python",
   "name": "conda-root-py"
  },
  "language_info": {
   "codemirror_mode": {
    "name": "ipython",
    "version": 2
   },
   "file_extension": ".py",
   "mimetype": "text/x-python",
   "name": "python",
   "nbconvert_exporter": "python",
   "pygments_lexer": "ipython2",
   "version": "2.7.13"
  }
 },
 "nbformat": 4,
 "nbformat_minor": 2
}
