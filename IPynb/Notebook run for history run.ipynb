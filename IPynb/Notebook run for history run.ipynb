{
 "cells": [
  {
   "cell_type": "markdown",
   "metadata": {},
   "source": [
    "# Notebook initial test"
   ]
  },
  {
   "cell_type": "code",
   "execution_count": 1,
   "metadata": {
    "collapsed": true,
    "jupyter": {
     "outputs_hidden": true
    }
   },
   "outputs": [],
   "source": [
    "from namelist_history import lib_path, prec_keys, fcst_keys,\\\n",
    "                     tssc_keys, TS_perfix, TS_path,\\\n",
    "                     ENS_path, OTS_path, output_name\n",
    "from sys import path, argv\n",
    "path.insert(0, lib_path)\n",
    "# local scripts\n",
    "import ensemble_tool as et\n",
    "import micpas_tool as mt\n",
    "from utility import ini_dicts, subtrack_precip_lev\n",
    "# other modules\n",
    "import numpy as np\n",
    "from datetime import datetime\n",
    "from dateutil.relativedelta import relativedelta"
   ]
  },
  {
   "cell_type": "code",
   "execution_count": 2,
   "metadata": {},
   "outputs": [
    {
     "data": {
      "text/plain": [
       "<module 'micpas_tool' from 'libs/micpas_tool.pyc'>"
      ]
     },
     "execution_count": 2,
     "metadata": {},
     "output_type": "execute_result"
    }
   ],
   "source": [
    "reload(mt)"
   ]
  },
  {
   "cell_type": "code",
   "execution_count": 3,
   "metadata": {},
   "outputs": [
    {
     "name": "stdout",
     "output_type": "stream",
     "text": [
      "Calculating [20170303]\n",
      "Import all micaps files\n"
     ]
    }
   ],
   "source": [
    "#def run_single_day(date_ref, day0):\n",
    "date_ref = datetime(2017, 3, 3, 0)\n",
    "date_ref_delay = date_ref-relativedelta(days=1) # use yesterday's forecast\n",
    "date_BJ = date_ref_delay+relativedelta(hours=8)\n",
    "print('Calculating ['+date_ref.strftime('%Y%m%d')+']')\n",
    "name_today = []\n",
    "name_today.append(datetime.strftime(date_ref_delay, ENS_path))\n",
    "#name_today.append(datetime.strftime(date_ref_delay, FRE_path))\n",
    "name_today.append(datetime.strftime(date_ref_delay+relativedelta(hours=8), OTS_path))\n",
    "\n",
    "print('Import all micaps files')\n",
    "lon, lat = mt.genrate_grid()\n",
    "# Initializing dictionaries\n",
    "cmpt_keys = ['ENS', 'OTS']\n",
    "dict_var = {}; dict_interp = {}; dict_header = {}\n",
    "dict_var = ini_dicts(dict_var, cmpt_keys)\n",
    "dict_interp = ini_dicts(dict_interp, cmpt_keys)\n",
    "\n"
   ]
  },
  {
   "cell_type": "code",
   "execution_count": 4,
   "metadata": {},
   "outputs": [],
   "source": [
    "# Fill dictionaries with data\n",
    "for fcst_key in fcst_keys:\n",
    "    for i, name in enumerate(name_today):\n",
    "        temp_name = name+fcst_key\n",
    "        temp = mt.micaps_import(temp_name)\n",
    "        if temp == False:\n",
    "            print(temp_name+' not found. Exit ...')\n",
    "            #return\n",
    "        else:\n",
    "            dict_var[cmpt_keys[i]][fcst_key] = temp[2]\n",
    "    dict_header[fcst_key] = temp[3]"
   ]
  },
  {
   "cell_type": "code",
   "execution_count": 8,
   "metadata": {},
   "outputs": [
    {
     "data": {
      "text/plain": [
       "' diamond 4 17030220_180rain24_MPI'"
      ]
     },
     "execution_count": 8,
     "metadata": {},
     "output_type": "execute_result"
    }
   ],
   "source": [
    "temp[3][0].replace(\"FZMOS\", \"MPI\")"
   ]
  },
  {
   "cell_type": "code",
   "execution_count": 45,
   "metadata": {},
   "outputs": [
    {
     "name": "stdout",
     "output_type": "stream",
     "text": [
      "Calculating [20170403]\n",
      "Import all micaps files\n",
      "data/obj_analysis/ens/2017040212.108 not found. Exit ...\n",
      "data/obj_analysis/ots/17040220.108 not found. Exit ...\n"
     ]
    },
    {
     "ename": "TypeError",
     "evalue": "'bool' object has no attribute '__getitem__'",
     "output_type": "error",
     "traceback": [
      "\u001b[0;31m---------------------------------------------------------------------------\u001b[0m",
      "\u001b[0;31mTypeError\u001b[0m                                 Traceback (most recent call last)",
      "\u001b[0;32m<ipython-input-45-7d057f86623b>\u001b[0m in \u001b[0;36m<module>\u001b[0;34m()\u001b[0m\n\u001b[1;32m     25\u001b[0m         \u001b[0;32melse\u001b[0m\u001b[0;34m:\u001b[0m\u001b[0;34m\u001b[0m\u001b[0m\n\u001b[1;32m     26\u001b[0m             \u001b[0mdict_var\u001b[0m\u001b[0;34m[\u001b[0m\u001b[0mcmpt_keys\u001b[0m\u001b[0;34m[\u001b[0m\u001b[0mi\u001b[0m\u001b[0;34m]\u001b[0m\u001b[0;34m]\u001b[0m\u001b[0;34m[\u001b[0m\u001b[0mfcst_key\u001b[0m\u001b[0;34m]\u001b[0m \u001b[0;34m=\u001b[0m \u001b[0mtemp\u001b[0m\u001b[0;34m[\u001b[0m\u001b[0;36m2\u001b[0m\u001b[0;34m]\u001b[0m\u001b[0;34m\u001b[0m\u001b[0m\n\u001b[0;32m---> 27\u001b[0;31m     \u001b[0mdict_header\u001b[0m\u001b[0;34m[\u001b[0m\u001b[0mfcst_key\u001b[0m\u001b[0;34m]\u001b[0m \u001b[0;34m=\u001b[0m \u001b[0mtemp\u001b[0m\u001b[0;34m[\u001b[0m\u001b[0;36m3\u001b[0m\u001b[0;34m]\u001b[0m\u001b[0;34m\u001b[0m\u001b[0m\n\u001b[0m\u001b[1;32m     28\u001b[0m \u001b[0;31m# Get latlon info\u001b[0m\u001b[0;34m\u001b[0m\u001b[0;34m\u001b[0m\u001b[0m\n\u001b[1;32m     29\u001b[0m \u001b[0mdict_latlon\u001b[0m \u001b[0;34m=\u001b[0m \u001b[0;34m{\u001b[0m\u001b[0;34m}\u001b[0m\u001b[0;34m\u001b[0m\u001b[0m\n",
      "\u001b[0;31mTypeError\u001b[0m: 'bool' object has no attribute '__getitem__'"
     ]
    }
   ],
   "source": [
    "#def run_single_day(date_ref, day0):\n",
    "date_ref = datetime(2017, 4, 3, 0)\n",
    "date_ref_delay = date_ref-relativedelta(days=1) # use yesterday's forecast\n",
    "date_BJ = date_ref_delay+relativedelta(hours=8)\n",
    "print('Calculating ['+date_ref.strftime('%Y%m%d')+']')\n",
    "name_today = []\n",
    "name_today.append(datetime.strftime(date_ref_delay, ENS_path))\n",
    "#name_today.append(datetime.strftime(date_ref_delay, FRE_path))\n",
    "name_today.append(datetime.strftime(date_ref_delay+relativedelta(hours=8), OTS_path))\n",
    "print('Import all micaps files')\n",
    "lon, lat = mt.genrate_grid()\n",
    "# Initializing dictionaries\n",
    "cmpt_keys = ['ENS', 'OTS']\n",
    "dict_var = {}; dict_interp = {}; dict_header = {}\n",
    "dict_var = ini_dicts(dict_var, cmpt_keys)\n",
    "dict_interp = ini_dicts(dict_interp, cmpt_keys)\n",
    "# Fill dictionaries with data\n",
    "for fcst_key in fcst_keys:\n",
    "    for i, name in enumerate(name_today):\n",
    "        temp_name = name+fcst_key\n",
    "        temp = mt.micaps_import(temp_name)\n",
    "        if temp == False:\n",
    "            print(temp_name+' not found. Exit ...')\n",
    "            #return\n",
    "        else:\n",
    "            dict_var[cmpt_keys[i]][fcst_key] = temp[2]\n",
    "    dict_header[fcst_key] = temp[3]\n",
    "# Get latlon info\n",
    "dict_latlon = {}\n",
    "for i, name in enumerate(name_today):\n",
    "    dict_latlon[cmpt_keys[i]] = mt.micaps_import(name+fcst_keys[0], export_data=False)\n",
    "lon, lat = mt.genrate_grid()\n",
    "print('Bilinear interpolation for grid transfer')\n",
    "for key, val in dict_var.items():\n",
    "    for fcst_key in fcst_keys:\n",
    "        x = dict_latlon[key][0]\n",
    "        y = dict_latlon[key][1]\n",
    "        z = val[fcst_key]\n",
    "        if x.shape == z.shape:\n",
    "            dict_interp[key][fcst_key] = mt.grid_transfer(dict_latlon[key][0], dict_latlon[key][1], val[fcst_key], lon, lat)\n",
    "        else:\n",
    "            print('\\t Error: File coord and val does not match, skip ...')\n",
    "            return\n",
    "# Caliberating weights\n",
    "print('Caliberating weights')\n",
    "W = {}; W = ini_dicts(W, prec_keys)\n",
    "for prec_key in prec_keys:\n",
    "    W[prec_key] = ini_dicts(W[prec_key], tssc_keys)\n",
    "# Get weights from moving averaging\n",
    "for prec_key in prec_keys:\n",
    "    for tssc_key in tssc_keys:\n",
    "        # retreive ts files by the fcst delay\n",
    "        date_temp = date_ref - relativedelta(days=int(tssc_key)/24)\n",
    "        data_ma, flag_TS = et.norm_ensemble(date_temp.strftime(TS_perfix), 10, TS_path+prec_key+'/', period=tssc_key)\n",
    "        if np.logical_not(flag_TS) or np.isnan(data_ma.as_matrix()[-1, 1:].astype(np.float)).sum() >= 3:\n",
    "            print('\\t Warning: TS not exist or filled with NaNs, use average.')\n",
    "            for cmpt_key in cmpt_keys:\n",
    "                W[prec_key][tssc_key][cmpt_key] = 0.5\n",
    "        else:\n",
    "            for cmpt_key in cmpt_keys:\n",
    "                temp = data_ma[cmpt_key][9:10].as_matrix()\n",
    "                if np.isnan(temp):\n",
    "                    temp = 0.0\n",
    "                W[prec_key][tssc_key][cmpt_key] = temp\n",
    "# Calculate ensembles\n",
    "output = {}\n",
    "# get all the result at the current day\n",
    "for i in xrange(4):\n",
    "    # initialization\n",
    "    W0 = 0.0\n",
    "    W25 = 0.0\n",
    "    W50 = 0.0\n",
    "    precip0  = np.zeros(lon.shape)\n",
    "    precip25 = np.zeros(lon.shape)\n",
    "    precip50 = np.zeros(lon.shape)\n",
    "    #\n",
    "    for cmpt_key in cmpt_keys:\n",
    "        data0, data25, data50 = subtrack_precip_lev(dict_interp[cmpt_key][fcst_keys[i]])\n",
    "        precip0 += data0\n",
    "        precip25 += W['25'][tssc_keys[i]][cmpt_key] * data25\n",
    "        precip50 += W['50'][tssc_keys[i]][cmpt_key] * data50\n",
    "        W0 += 1.0\n",
    "        W25 += W['25'][tssc_keys[i]][cmpt_key]\n",
    "        W50 += W['50'][tssc_keys[i]][cmpt_key]\n",
    "    output[fcst_keys[i]] = precip0/W0 + precip25/W25 + precip50/W50\n",
    "# Preparing MICAPS file output\n",
    "for fcst_key in fcst_keys:\n",
    "    metadata = mt.micaps_change_header(lon.shape, dict_header[fcst_key])\n",
    "    mt.micaps_export(datetime.strftime(date_BJ, output_name)+fcst_key+'.txt', metadata, output[fcst_key])\n",
    "print('The ensemble system complete')\n",
    "#return"
   ]
  },
  {
   "cell_type": "code",
   "execution_count": null,
   "metadata": {},
   "outputs": [],
   "source": [
    "# a, b, c, d = mt.micaps_import('data/obj_analysis/ots/17040120.180')"
   ]
  },
  {
   "cell_type": "code",
   "execution_count": null,
   "metadata": {},
   "outputs": [],
   "source": []
  }
 ],
 "metadata": {
  "anaconda-cloud": {},
  "kernelspec": {
   "display_name": "Python [conda root]",
   "language": "python",
   "name": "conda-root-py"
  },
  "language_info": {
   "codemirror_mode": {
    "name": "ipython",
    "version": 2
   },
   "file_extension": ".py",
   "mimetype": "text/x-python",
   "name": "python",
   "nbconvert_exporter": "python",
   "pygments_lexer": "ipython2",
   "version": "2.7.13"
  }
 },
 "nbformat": 4,
 "nbformat_minor": 4
}
